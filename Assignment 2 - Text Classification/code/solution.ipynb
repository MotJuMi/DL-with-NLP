{
 "cells": [
  {
   "cell_type": "code",
   "execution_count": 26,
   "metadata": {
    "collapsed": true
   },
   "outputs": [],
   "source": [
    "import random\n",
    "from textblob.classifiers import NaiveBayesClassifier\n",
    "from nltk import tokenize\n",
    "import pandas as pd\n",
    "import numpy as np\n",
    "from textblob import TextBlob"
   ]
  },
  {
   "cell_type": "code",
   "execution_count": 27,
   "metadata": {
    "collapsed": true
   },
   "outputs": [],
   "source": [
    "df_train = pd.read_json('../input/ted_ru-20160408.json.train')"
   ]
  },
  {
   "cell_type": "code",
   "execution_count": 28,
   "metadata": {
    "collapsed": false
   },
   "outputs": [
    {
     "data": {
      "text/html": [
       "<div>\n",
       "<table border=\"1\" class=\"dataframe\">\n",
       "  <thead>\n",
       "    <tr style=\"text-align: right;\">\n",
       "      <th></th>\n",
       "      <th>@id</th>\n",
       "      <th>class</th>\n",
       "      <th>content</th>\n",
       "      <th>head</th>\n",
       "    </tr>\n",
       "  </thead>\n",
       "  <tbody>\n",
       "    <tr>\n",
       "      <th>0</th>\n",
       "      <td>1848</td>\n",
       "      <td>2</td>\n",
       "      <td>Я был неописуемо удивлён, узнав о существовани...</td>\n",
       "      <td>{'videopath': 'talks/NeilTurok_2008.mp4', 'tal...</td>\n",
       "    </tr>\n",
       "    <tr>\n",
       "      <th>1</th>\n",
       "      <td>881</td>\n",
       "      <td>2</td>\n",
       "      <td>Я работаю с бактериями. Сейчас я покажу вам сд...</td>\n",
       "      <td>{'videopath': 'talks/DamianPalin_2012U.mp4', '...</td>\n",
       "    </tr>\n",
       "    <tr>\n",
       "      <th>2</th>\n",
       "      <td>1757</td>\n",
       "      <td>1</td>\n",
       "      <td>Привет, я здесь чтобы поговорить с вами о важн...</td>\n",
       "      <td>{'videopath': 'talks/LauraTrice_2008.mp4', 'ta...</td>\n",
       "    </tr>\n",
       "    <tr>\n",
       "      <th>3</th>\n",
       "      <td>1199</td>\n",
       "      <td>1</td>\n",
       "      <td>Я глава отдела развития общественной организац...</td>\n",
       "      <td>{'videopath': 'talks/MarkBezos_2011U.mp4', 'ta...</td>\n",
       "    </tr>\n",
       "    <tr>\n",
       "      <th>4</th>\n",
       "      <td>1855</td>\n",
       "      <td>6</td>\n",
       "      <td>Я думаю, мой взгляд на простоту можно отлично ...</td>\n",
       "      <td>{'videopath': 'talks/AlanKay_2007.mp4', 'talki...</td>\n",
       "    </tr>\n",
       "  </tbody>\n",
       "</table>\n",
       "</div>"
      ],
      "text/plain": [
       "    @id  class                                            content  \\\n",
       "0  1848      2  Я был неописуемо удивлён, узнав о существовани...   \n",
       "1   881      2  Я работаю с бактериями. Сейчас я покажу вам сд...   \n",
       "2  1757      1  Привет, я здесь чтобы поговорить с вами о важн...   \n",
       "3  1199      1  Я глава отдела развития общественной организац...   \n",
       "4  1855      6  Я думаю, мой взгляд на простоту можно отлично ...   \n",
       "\n",
       "                                                head  \n",
       "0  {'videopath': 'talks/NeilTurok_2008.mp4', 'tal...  \n",
       "1  {'videopath': 'talks/DamianPalin_2012U.mp4', '...  \n",
       "2  {'videopath': 'talks/LauraTrice_2008.mp4', 'ta...  \n",
       "3  {'videopath': 'talks/MarkBezos_2011U.mp4', 'ta...  \n",
       "4  {'videopath': 'talks/AlanKay_2007.mp4', 'talki...  "
      ]
     },
     "execution_count": 28,
     "metadata": {},
     "output_type": "execute_result"
    }
   ],
   "source": [
    "df_train.head()"
   ]
  },
  {
   "cell_type": "code",
   "execution_count": 29,
   "metadata": {
    "collapsed": false
   },
   "outputs": [
    {
     "data": {
      "text/plain": [
       "{'charnum': 2214,\n",
       " 'content-type': 'text/html; charset=utf-8',\n",
       " 'date': '2012/02/27',\n",
       " 'description': 'TED Talk Subtitles and Transcript: Человечеству необходимо всё больше и больше чистой воды; мы берём её из океана, опресняем и пьём. Но как быть с оставшимся солевым раствором? В этом увлекательном коротком докладе стипендиат TED Дэмиан Палин предлагает решение: добывать из него необходимые нам минералы с помощью металлопотребляющих бактерий.',\n",
       " 'dtime': 'Thu Jan 28 14:25:01 CET 2016',\n",
       " 'encoding': 'UTF-8',\n",
       " 'keywords': ['talks',\n",
       "  'TED Conference',\n",
       "  'TED Fellows',\n",
       "  'mining',\n",
       "  'science',\n",
       "  'technology',\n",
       "  'water'],\n",
       " 'pagesize': 84326,\n",
       " 'speaker': 'Damian Palin',\n",
       " 'talkid': 1470,\n",
       " 'title': 'Дэмиан Палин: Добыча минералов из морской воды',\n",
       " 'url': 'http://www.ted.com/talks/damian_palin_mining_minerals_from_seawater',\n",
       " 'videopath': 'talks/DamianPalin_2012U.mp4',\n",
       " 'videourl': 'http://download.ted.com/talks/DamianPalin_2012U.mp4',\n",
       " 'wordnum': 306}"
      ]
     },
     "execution_count": 29,
     "metadata": {},
     "output_type": "execute_result"
    }
   ],
   "source": [
    "df_train.head()['head'][1]"
   ]
  },
  {
   "cell_type": "code",
   "execution_count": 30,
   "metadata": {
    "collapsed": true
   },
   "outputs": [],
   "source": [
    "train = [row['head']['description'][35:] for index, row in df_train.iterrows()]"
   ]
  },
  {
   "cell_type": "code",
   "execution_count": 31,
   "metadata": {
    "collapsed": true
   },
   "outputs": [],
   "source": [
    "df_train['description'] = pd.Series(train)"
   ]
  },
  {
   "cell_type": "code",
   "execution_count": 47,
   "metadata": {
    "collapsed": false
   },
   "outputs": [],
   "source": [
    "train_set = [\n",
    "    (sentence, label) for label in np.unique(df_train['class']) for sentence in \n",
    "    tokenize.sent_tokenize(np.add.reduce(df_train[df_train['class'] == label]['description'].values))\n",
    "]\n",
    "random.shuffle(train_set)"
   ]
  },
  {
   "cell_type": "code",
   "execution_count": null,
   "metadata": {
    "collapsed": true
   },
   "outputs": [],
   "source": [
    "nb_clf = NaiveBayesClassifier(train_set)"
   ]
  },
  {
   "cell_type": "code",
   "execution_count": 16,
   "metadata": {
    "collapsed": true
   },
   "outputs": [],
   "source": [
    "test_df = pd.read_json('../input/ted_ru-20160408.json.test')"
   ]
  },
  {
   "cell_type": "code",
   "execution_count": 41,
   "metadata": {
    "collapsed": true
   },
   "outputs": [],
   "source": [
    "test_set = [row['head']['description'][35:] for index, row in test_df.iterrows()]"
   ]
  },
  {
   "cell_type": "code",
   "execution_count": 42,
   "metadata": {
    "collapsed": false
   },
   "outputs": [
    {
     "data": {
      "text/plain": [
       "'Политический эксперт Сэлли Кон говорит, что настало время, когда либералы и консерваторы должны переступить через барьер своих различий и действительно прислушаться друг к другу. В своей оптимистической речи Кон делится тем, что она узнала, будучи прогрессивной лесбиянкой, а так же ведущей на Fox News. Она заявляет, что значение имеет не политическая, а эмоциональная корректность.'"
      ]
     },
     "execution_count": 42,
     "metadata": {},
     "output_type": "execute_result"
    }
   ],
   "source": [
    "test_set[0]"
   ]
  },
  {
   "cell_type": "code",
   "execution_count": null,
   "metadata": {
    "collapsed": false
   },
   "outputs": [],
   "source": [
    "predictions = []\n",
    "\n",
    "for description in test_set:\n",
    "    text_blob = TextBlob(description, classifier=nb_clf)\n",
    "    predictions.append(text_blob.classify())"
   ]
  },
  {
   "cell_type": "code",
   "execution_count": 44,
   "metadata": {
    "collapsed": true
   },
   "outputs": [],
   "source": [
    "sample_submission = pd.read_csv('../input/ted_ru-20160408.json.submission2')\n",
    "sample_submission['class'] = pd.Series(predictions)\n",
    "sample_submission.to_csv('naive_bayes_on_description_submission.csv', index=False)"
   ]
  }
 ],
 "metadata": {
  "kernelspec": {
   "display_name": "Python 3",
   "language": "python",
   "name": "python3"
  },
  "language_info": {
   "codemirror_mode": {
    "name": "ipython",
    "version": 3
   },
   "file_extension": ".py",
   "mimetype": "text/x-python",
   "name": "python",
   "nbconvert_exporter": "python",
   "pygments_lexer": "ipython3",
   "version": "3.5.1"
  }
 },
 "nbformat": 4,
 "nbformat_minor": 0
}
